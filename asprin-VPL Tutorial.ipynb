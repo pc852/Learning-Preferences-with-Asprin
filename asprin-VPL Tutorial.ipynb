{
 "cells": [
  {
   "cell_type": "markdown",
   "id": "ae8bc209",
   "metadata": {},
   "source": [
    "# asprin-vPL Tutorial\n",
    "\n",
    "***"
   ]
  },
  {
   "cell_type": "markdown",
   "id": "3d90c8e0",
   "metadata": {},
   "source": [
    "## 1. Introduction\n",
    "\n",
    "*asprin-VPL* builds on the existing answer set programming (ASP) framework *asprin* and is designed to learn preferences using  labeled data. This tutorial assumes foundational knowledge in ASP syntax and ASP solver/grounder *clingo*. Prior experience with *asprin* would be helpful towards understanding this framework. Tutorial on preference optimization with *asprin* can be found in the *Potassco* user guide, under the chapter 'optimization and preference handling': https://github.com/potassco/guide/releases\n",
    "\n",
    "Input:\n",
    "1. pairs of models alongisde a label indicating the preferred model between the pair. The models are made up of binary atoms (either a fact or not).\n",
    "2. the domain of the binary atoms and the total number of models for training.\n",
    "3. the types of preference relation allowed and the corresponding range of preference instances as part of a preference statement, in the form of choice rules. \n",
    "\n",
    "Output:\n",
    "1. preference statement(s) in the syntax of *asprin* which best fits the input data \n",
    "\n",
    "***"
   ]
  },
  {
   "cell_type": "markdown",
   "id": "104fdc8c",
   "metadata": {},
   "source": [
    "## 2. Example\n"
   ]
  },
  {
   "cell_type": "code",
   "execution_count": 7,
   "id": "9150a5b2",
   "metadata": {},
   "outputs": [
    {
     "name": "stdout",
     "output_type": "stream",
     "text": [
      "Overwriting example_complete.lp\n"
     ]
    }
   ],
   "source": [
    "%%file example_complete.lp\n",
    "\n",
    "#program domain.\n",
    "domain(2).                  % 1\n",
    "atom(food(X)) :- domain(X). % 2\n",
    "model(1..2).                % 3\n",
    "\n",
    "#program examples.\n",
    "in(food(1),1).              % 4\n",
    "in(food(1),2).              % 5\n",
    "in(food(2),2).              % 6\n",
    "input(1,better,2).          % 7\n",
    "\n",
    "#program generation.\n",
    "preference(p1,subset).                                           % 8\n",
    "{preference(p1,(1,X),1,for(atom(food(X))),())} :- atom(food(X)). % 9"
   ]
  },
  {
   "cell_type": "code",
   "execution_count": 2,
   "id": "a27c57d6",
   "metadata": {},
   "outputs": [
    {
     "name": "stderr",
     "output_type": "stream",
     "text": [
      "'clingo' is not recognized as an internal or external command,\n",
      "operable program or batch file.\n"
     ]
    }
   ],
   "source": [
    "! clingo example_complete.lp backend.lp cleaned_asprin_lib.lp"
   ]
  },
  {
   "cell_type": "markdown",
   "id": "c7277945",
   "metadata": {},
   "source": [
    "## 3. Usage\n",
    "\n",
    "### 3.1 Input\n",
    "The input consists of 3 necessary program parts and 1 optional program part, each identified with its respective `#program <part>.` directive.\n",
    "\n",
    "***"
   ]
  },
  {
   "cell_type": "markdown",
   "id": "08ad35cb",
   "metadata": {},
   "source": [
    "#### 3.1.1 Domain\n",
    "This program part is identified by the directive `#program domain.`"
   ]
  },
  {
   "cell_type": "markdown",
   "id": "7e52237b",
   "metadata": {},
   "source": [
    "```\n",
    "#program domain.\n",
    "domain(2).                  % 1\n",
    "atom(food(X)) :- domain(X). % 2\n",
    "model(1..2).                % 3\n",
    "```"
   ]
  },
  {
   "cell_type": "markdown",
   "id": "19a6b826",
   "metadata": {},
   "source": [
    "Line 1 specifys the domain space, which is the range of input allowed for the atom `food` in line 2. Line 3 states the total number of models given to the program."
   ]
  },
  {
   "cell_type": "markdown",
   "id": "0befe68d",
   "metadata": {},
   "source": [
    "#### 3.1.2 Example\n",
    "This program part is identified by the directive `#program example.`"
   ]
  },
  {
   "cell_type": "markdown",
   "id": "8658268e",
   "metadata": {},
   "source": [
    "```\n",
    "#program examples.\n",
    "in(food(1),1).              % 4\n",
    "in(food(1),2).              % 5\n",
    "in(food(2),2).              % 6\n",
    "input(1,better,2).          % 7\n",
    "```"
   ]
  },
  {
   "cell_type": "markdown",
   "id": "d1136d0f",
   "metadata": {},
   "source": [
    "Lines 4 to 6 are the input predicates detailing the constitution of each model. The first argument is the atom and the second argument is the model in which the atom is present. In line 4, `in(food(1),1).` means the atom `food(1)` is a fact in model number `1`. Line 7 is the label stating that model `1` is preferred to model `2`. Other preference relations include 'worse', 'eq' for equal, and 'unc' for uncomparable."
   ]
  },
  {
   "cell_type": "markdown",
   "id": "848e584e",
   "metadata": {},
   "source": [
    "#### 3.1.3 Generation\n",
    "This program part is identified by the directive `#program generation.`"
   ]
  },
  {
   "cell_type": "markdown",
   "id": "a49c94d1",
   "metadata": {},
   "source": [
    "```\n",
    "#program generation.\n",
    "preference(p1,subset).                                           % 8\n",
    "{preference(p1,(1,X),1,for(atom(food(X))),())} :- atom(food(X)). % 9\n",
    "```"
   ]
  },
  {
   "cell_type": "markdown",
   "id": "fee5bc02",
   "metadata": {},
   "source": [
    "Line 8 specifies a preference statement p1 and its preference type, in this case subset. Line 9 is a choice rule stating the range of preference instances that preference statement p1 can possibly include. The syntax of the predicates `preference/2` and `preference/5` can be found in the tutorial for *asprin* mentioned in the introduction above."
   ]
  },
  {
   "cell_type": "markdown",
   "id": "4f01be53",
   "metadata": {},
   "source": [
    "### 3.2 Output\n",
    "The output is the learned preference statement in asprin format."
   ]
  },
  {
   "cell_type": "code",
   "execution_count": null,
   "id": "030d53ea",
   "metadata": {},
   "outputs": [],
   "source": []
  }
 ],
 "metadata": {
  "kernelspec": {
   "display_name": "Python 3 (ipykernel)",
   "language": "python",
   "name": "python3"
  },
  "language_info": {
   "codemirror_mode": {
    "name": "ipython",
    "version": 3
   },
   "file_extension": ".py",
   "mimetype": "text/x-python",
   "name": "python",
   "nbconvert_exporter": "python",
   "pygments_lexer": "ipython3",
   "version": "3.10.9"
  }
 },
 "nbformat": 4,
 "nbformat_minor": 5
}
