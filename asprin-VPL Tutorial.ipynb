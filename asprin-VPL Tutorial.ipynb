{
 "cells": [
  {
   "cell_type": "markdown",
   "id": "ae8bc209",
   "metadata": {},
   "source": [
    "## asprin-vPL Tutorial\n",
    "\n",
    "***"
   ]
  },
  {
   "cell_type": "markdown",
   "id": "3d90c8e0",
   "metadata": {},
   "source": [
    "### 1. Introduction\n",
    "\n",
    "asprin-VPL builds on the existing answer set programming (ASP) framework asprin and is designed to learn preferences when given labeled input data. (TBC)\n",
    "This tutorial assumes foundational knowledge in ASP syntax and prior experience with integrated ASP solver/grounder clingo. \n",
    "\n",
    "***"
   ]
  },
  {
   "cell_type": "markdown",
   "id": "104fdc8c",
   "metadata": {},
   "source": [
    "### 2. Usage \n",
    "\n",
    "#### 2.1 Input\n",
    "The input consists of 5 separate program parts, each identified with its respective `#program <part>.` directive.\n",
    "\n",
    "(TBC 5 parts)\n",
    "\n",
    "#### 2.2 Output\n",
    "The output is the learned preference statement in asprin format.\n",
    "\n",
    "***"
   ]
  },
  {
   "cell_type": "markdown",
   "id": "c7277945",
   "metadata": {},
   "source": [
    "### 3. Example\n",
    "\n",
    "(TBC simple case with 1 input example pair, minimum domain, and 1 preference type)"
   ]
  },
  {
   "cell_type": "code",
   "execution_count": null,
   "id": "f50e7f1b",
   "metadata": {},
   "outputs": [],
   "source": []
  }
 ],
 "metadata": {
  "kernelspec": {
   "display_name": "Python 3 (ipykernel)",
   "language": "python",
   "name": "python3"
  },
  "language_info": {
   "codemirror_mode": {
    "name": "ipython",
    "version": 3
   },
   "file_extension": ".py",
   "mimetype": "text/x-python",
   "name": "python",
   "nbconvert_exporter": "python",
   "pygments_lexer": "ipython3",
   "version": "3.10.9"
  }
 },
 "nbformat": 4,
 "nbformat_minor": 5
}
