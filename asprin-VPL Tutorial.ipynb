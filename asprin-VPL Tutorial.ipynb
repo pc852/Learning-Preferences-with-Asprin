{
 "cells": [
  {
   "cell_type": "markdown",
   "id": "ae8bc209",
   "metadata": {},
   "source": [
    "## asprin-vPL Tutorial\n",
    "\n",
    "***"
   ]
  },
  {
   "cell_type": "markdown",
   "id": "3d90c8e0",
   "metadata": {},
   "source": [
    "### 1. Introduction\n",
    "\n",
    "asprin-VPL builds on the existing answer set programming (ASP) framework asprin and is designed to learn preferences when given labeled input data. (TBC)\n",
    "This tutorial assumes foundational knowledge in ASP syntax and prior experience with integrated ASP solver/grounder clingo. \n",
    "\n",
    "***"
   ]
  },
  {
   "cell_type": "markdown",
   "id": "104fdc8c",
   "metadata": {},
   "source": [
    "### 2. Example\n",
    "\n",
    "(TBC simple case with 1 input example pair, minimum domain, and 1 preference type)"
   ]
  },
  {
   "cell_type": "code",
   "execution_count": 1,
   "id": "9150a5b2",
   "metadata": {},
   "outputs": [
    {
     "name": "stdout",
     "output_type": "stream",
     "text": [
      "Writing example_complete.lp\n"
     ]
    }
   ],
   "source": [
    "%%file example_complete.lp\n",
    "\n",
    "#program domain.\n",
    "domain(2).\n",
    "atom(food(X)) :- domain(X).\n",
    "bundle(1..2).\n",
    "\n",
    "#program examples.\n",
    "in(food(1),1).\n",
    "in(food(1),2).\n",
    "in(food(2),2).\n",
    "input(1,better,2).\n",
    "\n",
    "#program generation.\n",
    "preference(p1,subset).\n",
    "{preference(p1,(1,A),1,for(atom(A)),())} :- atom(A)."
   ]
  },
  {
   "cell_type": "code",
   "execution_count": 2,
   "id": "a27c57d6",
   "metadata": {},
   "outputs": [
    {
     "name": "stderr",
     "output_type": "stream",
     "text": [
      "'clingo' is not recognized as an internal or external command,\n",
      "operable program or batch file.\n"
     ]
    }
   ],
   "source": [
    "! clingo example_complete.lp backend.lp cleaned_asprin_lib.lp"
   ]
  },
  {
   "cell_type": "markdown",
   "id": "c7277945",
   "metadata": {},
   "source": [
    "### 3. Usage\n",
    "\n",
    "#### 3.1 Input\n",
    "The input consists of 3 necessary program parts and 1 optional program part, each identified with its respective `#program <part>.` directive.\n",
    "\n",
    "(TBC 5 parts)\n",
    "\n",
    "#### 3.2 Output\n",
    "The output is the learned preference statement in asprin format.\n",
    "\n",
    "***"
   ]
  },
  {
   "cell_type": "code",
   "execution_count": null,
   "id": "f50e7f1b",
   "metadata": {},
   "outputs": [],
   "source": []
  }
 ],
 "metadata": {
  "kernelspec": {
   "display_name": "Python 3 (ipykernel)",
   "language": "python",
   "name": "python3"
  },
  "language_info": {
   "codemirror_mode": {
    "name": "ipython",
    "version": 3
   },
   "file_extension": ".py",
   "mimetype": "text/x-python",
   "name": "python",
   "nbconvert_exporter": "python",
   "pygments_lexer": "ipython3",
   "version": "3.10.9"
  }
 },
 "nbformat": 4,
 "nbformat_minor": 5
}
