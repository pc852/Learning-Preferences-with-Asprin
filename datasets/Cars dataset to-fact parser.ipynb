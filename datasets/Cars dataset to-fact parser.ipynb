{
 "cells": [
  {
   "cell_type": "code",
   "execution_count": 1,
   "id": "4fa0a7f8",
   "metadata": {},
   "outputs": [],
   "source": [
    "items_in_1  = \"exp1-prefs/items1.csv\"\n",
    "items_out_1 = \"exp1-prefs/items1.lp\"\n",
    "users_in_1  = \"exp1-prefs/users1.csv\"\n",
    "users_out_1 = \"exp1-prefs/users1.lp\"\n",
    "prefs_in_1  = \"exp1-prefs/prefs1.csv\"\n",
    "prefs_out_1 = \"exp1-prefs/prefs1.lp\"\n",
    "\n",
    "items_in_2  = \"exp2-prefs/items2.csv\"\n",
    "items_out_2 = \"exp2-prefs/items2.lp\"\n",
    "users_in_2  = \"exp2-prefs/users2.csv\"\n",
    "users_out_2 = \"exp2-prefs/users2.lp\"\n",
    "prefs_in_2  = \"exp2-prefs/prefs2.csv\"\n",
    "prefs_out_2 = \"exp2-prefs/prefs2.lp\""
   ]
  },
  {
   "cell_type": "code",
   "execution_count": 2,
   "id": "d788ccce",
   "metadata": {},
   "outputs": [],
   "source": [
    "def parse_file(file_in, file_out, predicate):\n",
    "     with open(file_in, \"r\") as f_in:\n",
    "        data_in = f_in.readlines()\n",
    "        \n",
    "        with open(file_out, \"w+\") as f_out:\n",
    "            for line in data_in[1:]:\n",
    "                line=line[:-1]\n",
    "                f_out.write(predicate + \"\".join(line) + \").\\n\")"
   ]
  },
  {
   "cell_type": "code",
   "execution_count": 3,
   "id": "d46c138d",
   "metadata": {},
   "outputs": [],
   "source": [
    "parse_file(items_in_1, items_out_1, \"car(\")\n",
    "parse_file(items_in_2, items_out_2, \"car(\")\n",
    "parse_file(users_in_1, users_out_1, \"user(\")\n",
    "parse_file(users_in_2, users_out_2, \"user(\")\n",
    "parse_file(prefs_in_1, prefs_out_1, \"pref(\")\n",
    "parse_file(prefs_in_2, prefs_out_2, \"pref(\")"
   ]
  },
  {
   "cell_type": "code",
   "execution_count": null,
   "id": "07337e22",
   "metadata": {},
   "outputs": [],
   "source": []
  }
 ],
 "metadata": {
  "kernelspec": {
   "display_name": "Python 3 (ipykernel)",
   "language": "python",
   "name": "python3"
  },
  "language_info": {
   "codemirror_mode": {
    "name": "ipython",
    "version": 3
   },
   "file_extension": ".py",
   "mimetype": "text/x-python",
   "name": "python",
   "nbconvert_exporter": "python",
   "pygments_lexer": "ipython3",
   "version": "3.10.9"
  }
 },
 "nbformat": 4,
 "nbformat_minor": 5
}
