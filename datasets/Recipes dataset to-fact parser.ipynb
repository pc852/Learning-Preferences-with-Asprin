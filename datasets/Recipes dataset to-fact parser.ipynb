{
 "cells": [
  {
   "cell_type": "code",
   "execution_count": 19,
   "id": "fbd7c42e",
   "metadata": {},
   "outputs": [],
   "source": [
    "samples_in = \"italian gastronomic recipes dataset/survey_answers/samples.txt\"\n",
    "labels_in = \"italian gastronomic recipes dataset/survey_answers/lables.txt\"\n",
    "examples_out = \"italian gastronomic recipes dataset/survey_answers/examples.lp\"\n",
    "\n",
    "dataset_in = \"italian gastronomic recipes dataset/foods/TXT/textData.txt\"\n",
    "dataset_out = \"italian gastronomic recipes dataset/foods/TXT/recipes.lp\"\n",
    "ingredients_out = \"italian gastronomic recipes dataset/foods/TXT/ingredients.lp\"\n",
    "preparations_out = \"italian gastronomic recipes dataset/foods/TXT/preparations.lp\""
   ]
  },
  {
   "cell_type": "code",
   "execution_count": 20,
   "id": "9443a67e",
   "metadata": {},
   "outputs": [],
   "source": [
    "with open(samples_in, 'r') as s_in:\n",
    "    with open(labels_in, 'r') as l_in:\n",
    "        with open(examples_out,'w+') as e_out:\n",
    "            samples = s_in.readlines()\n",
    "            labels = l_in.readlines()\n",
    "            for i in range(len(samples)):\n",
    "                samples[i] = samples[i].rstrip()\n",
    "                labels[i] = labels[i].rstrip()\n",
    "                s_line = samples[i].split(';')\n",
    "                l_line = labels[i].split(';')\n",
    "                for j in range(len(s_line)):\n",
    "                    e = s_line[j].split(',')\n",
    "                    if l_line[j] == '1':\n",
    "                        e_out.write('pref(' + e[0] + ',better,' + e[1] + ',' + str(i) + ').\\n')\n",
    "                    elif l_line[j] == '-1':\n",
    "                        e_out.write('pref(' + e[0] + ',worse,' + e[1] + ',' + str(i) + ').\\n')\n",
    "                    elif l_line[j] == '0':\n",
    "                        e_out.write('pref(' + e[0] + ',uncomparable,' + e[1] + ',' + str(i) + ').\\n')\n",
    "            \n",
    "        "
   ]
  },
  {
   "cell_type": "code",
   "execution_count": 49,
   "id": "6d8df625",
   "metadata": {},
   "outputs": [],
   "source": [
    "# to write recipe.lp, food(<ID>, <cat ID>, <cost>, <difficulty>, <prep time>).\n",
    "\n",
    "with open(dataset_in, 'r') as d_in:\n",
    "    data = d_in.readlines()\n",
    "    with open(dataset_out,'w+') as d_out:   \n",
    "        for line in data[1:]:\n",
    "            line = line.split(',')\n",
    "            line = line[:6]\n",
    "            del(line[1])\n",
    "            d_out.write(\"food(\" + line[0] + \",\" + line[1] + \",\" + line[2] + \",\" + line[3] + \",\" + line[4] + \").\\n\")\n",
    "            "
   ]
  },
  {
   "cell_type": "code",
   "execution_count": 17,
   "id": "b29b126f",
   "metadata": {},
   "outputs": [],
   "source": [
    "# to write ingredients.lp, food(<ID>, ingredients(<class>, <weight>)).\n",
    "\n",
    "with open(dataset_in, 'r') as d_in:\n",
    "    data = d_in.readlines()\n",
    "    with open(ingredients_out, 'w+') as i_out:\n",
    "        for line in data[1:]:\n",
    "            line = line.split(',')\n",
    "            foodID = line[1]\n",
    "            line = line[6]\n",
    "            line = line[1:-1].split()\n",
    "            for i in range(len(line)):\n",
    "                if line[i] != \"0\":\n",
    "                    i_out.write(\"food(\" + foodID + \",\" + \"ingredient,(\" + str(i) + \",\" + line[i] + \")).\\n\")\n",
    "                "
   ]
  },
  {
   "cell_type": "code",
   "execution_count": 18,
   "id": "5a6c7532",
   "metadata": {},
   "outputs": [],
   "source": [
    "# to write preparations.lp, food(<ID>, preparation(<class>, <weight>)).\n",
    "with open(dataset_in, 'r') as d_in:\n",
    "    data = d_in.readlines()\n",
    "    with open(preparations_out, 'w+') as p_out:\n",
    "        for line in data[1:]:\n",
    "            line = line.split(',')\n",
    "            foodID = line[1]\n",
    "            line = line[7]\n",
    "            line = line[1:-1].split()\n",
    "            for i in range(len(line)):\n",
    "                if line[i] != \"0\":\n",
    "                    p_out.write(\"food(\" + foodID + \",\" + \"preparation,(\" + str(i) + \",\" + line[i] + \")).\\n\")"
   ]
  },
  {
   "cell_type": "code",
   "execution_count": null,
   "id": "8bc2a4c1",
   "metadata": {},
   "outputs": [],
   "source": []
  }
 ],
 "metadata": {
  "kernelspec": {
   "display_name": "Python 3 (ipykernel)",
   "language": "python",
   "name": "python3"
  },
  "language_info": {
   "codemirror_mode": {
    "name": "ipython",
    "version": 3
   },
   "file_extension": ".py",
   "mimetype": "text/x-python",
   "name": "python",
   "nbconvert_exporter": "python",
   "pygments_lexer": "ipython3",
   "version": "3.10.9"
  }
 },
 "nbformat": 4,
 "nbformat_minor": 5
}
