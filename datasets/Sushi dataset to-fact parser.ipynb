{
 "cells": [
  {
   "cell_type": "code",
   "execution_count": 54,
   "id": "92fea199",
   "metadata": {},
   "outputs": [],
   "source": [
    "udata_in = \"sushi3-2016/sushi3.udata\"\n",
    "idata_in = \"sushi3-2016/sushi3.idata\"\n",
    "score_in =  \"sushi3-2016/sushi3b.5000.10.score\"\n",
    "order_in_b = \"sushi3-2016/sushi3b.5000.10.order\"\n",
    "order_in_a = \"sushi3-2016/sushi3a.5000.10.order\"\n",
    "\n",
    "idata_out = \"sushi3-2016/items.lp\"\n",
    "udata_out = \"sushi3-2016/users.lp\"\n",
    "order_out_a = \"sushi3-2016/order3a.lp\"\n",
    "pref_out = \"sushi3-2016/pref.lp\""
   ]
  },
  {
   "cell_type": "code",
   "execution_count": 15,
   "id": "7d58d8ef",
   "metadata": {},
   "outputs": [],
   "source": [
    "# sushi(<ID>, <style>, <major grp>, <minor grp>, <oiliness 0-100>, <often eaten? 0-100>, <price >=100>, <often sold? 0-100>).\n",
    "with open(idata_in, 'r') as i_in:\n",
    "    data = i_in.readlines()\n",
    "    with open(idata_out, 'w+') as i_out:\n",
    "        for line in data:\n",
    "            line = line.replace(\"\\t\", \" \")\n",
    "            line = line.split()\n",
    "            del line[1]\n",
    "            line[4] = str(float(line[4])*25)[:2]\n",
    "            line[5] = str(float(line[5])*33.333)[:2]\n",
    "            line[6] = str(float(line[6])*100)[:3]\n",
    "            line[7] = str(float(line[7])*100)[:2]\n",
    "            i_out.write(\"sushi(\" + line[0] + \",\" + line[1] + \",\" + line[2] + \",\" + line[3] + \",\" + line[4] \\\n",
    "                        + \",\" + line[5] + \",\" + line[6] + \",\" + line[7] + \").\\n\")\n",
    "    "
   ]
  },
  {
   "cell_type": "code",
   "execution_count": 18,
   "id": "2356a540",
   "metadata": {},
   "outputs": [],
   "source": [
    "# user(<ID>, <gender>, <age>, <time taken>, <prev prefecture>, <prev region>, <prev E/W>, \\\n",
    "#                                           <new prefecture>, <new region>, <new E/W>, <if location same>).\n",
    "with open(udata_in, 'r') as u_in:\n",
    "    data = u_in.readlines()\n",
    "    with open(udata_out, 'w+') as u_out:\n",
    "        for line in data:\n",
    "            line = line.replace(\"\\t\", \" \")\n",
    "            line = line.split()\n",
    "            u_out.write(\"user(\" + line[0] + \",\" + line[1] + \",\" + line[2] + \",\" + line[3] + \",\" + line[4] + \",\" + line[5] \\\n",
    "                        + \",\" + line[6] + \",\" + line[7] + \",\" + line[8] + \",\" + line[9] + \",\" + line[10] + \").\\n\")"
   ]
  },
  {
   "cell_type": "code",
   "execution_count": 58,
   "id": "fa0bec32",
   "metadata": {},
   "outputs": [],
   "source": [
    "# pref(<sushi ID>, better, <sushi ID>, <user ID>).\n",
    "with open(order_in_b, 'r') as o_in:\n",
    "    data_o = o_in.readlines()\n",
    "    data_o = data_o[1:]\n",
    "    with open(score_in, 'r') as s_in:\n",
    "        data_s = s_in.readlines()\n",
    "        \n",
    "        # filters out inconsistent users\n",
    "        to_avoid = []\n",
    "        for i in range(len(data_o)):\n",
    "            data_o[i] = list(map(int,data_o[i][:-1][5:].split()))     \n",
    "            data_s[i] = list(map(int,data_s[i][:-1].split()))\n",
    "            \n",
    "            for j in range(len(data_o[i])-1):\n",
    "                for k in range(j+1,len(data_o[i])):\n",
    "                    if data_s[i][data_o[i][j]] < data_s[i][data_o[i][k]]:\n",
    "                        #print(\"Inconsistent preference for user \", i)\n",
    "                        to_avoid.append(i)\n",
    "                        break\n",
    "                else:\n",
    "                    continue\n",
    "                break\n",
    "        with open(pref_out, 'w+') as p_out:  \n",
    "            for i in range(len(data_o)):\n",
    "                if i in to_avoid:\n",
    "                    continue\n",
    "                else:\n",
    "                    for j in range(len(data_o[i])-1):\n",
    "                        for k in range(j+1,len(data_o[i])):\n",
    "                            p_out.write('pref(' + str(data_o[i][j]) + ',better,' + str(data_o[i][k]) + ',' + str(i) + ').\\n')\n",
    "                        "
   ]
  },
  {
   "cell_type": "code",
   "execution_count": null,
   "id": "c1d15a2c",
   "metadata": {},
   "outputs": [],
   "source": []
  }
 ],
 "metadata": {
  "kernelspec": {
   "display_name": "Python 3 (ipykernel)",
   "language": "python",
   "name": "python3"
  },
  "language_info": {
   "codemirror_mode": {
    "name": "ipython",
    "version": 3
   },
   "file_extension": ".py",
   "mimetype": "text/x-python",
   "name": "python",
   "nbconvert_exporter": "python",
   "pygments_lexer": "ipython3",
   "version": "3.10.9"
  }
 },
 "nbformat": 4,
 "nbformat_minor": 5
}
